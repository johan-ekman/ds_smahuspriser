{
 "cells": [
  {
   "cell_type": "code",
   "execution_count": 1,
   "metadata": {},
   "outputs": [],
   "source": [
    "import pandas as pd\n",
    "\n",
    "import os"
   ]
  },
  {
   "cell_type": "markdown",
   "metadata": {},
   "source": [
    "**Mars 2019**\n",
    "\n",
    "Örjan fick en idé om att trendsidan i nr 10 kan vara om småhusprisernas utveckling de senaste åren. Det passar utmärkt då den tidigare idén vi hade stektes. [Data finns i SCB:s statistikdatabas](http://www.statistikdatabasen.scb.se/pxweb/sv/ssd/START__BO__BO0501__BO0501B/FastprisSHRegionAr/?rxid=95325370-4522-4a57-ab13-754281626916). MEN!! Efter samtal med en statistiker på SCB:s statistikservice så fick jag reda på att en rak jämförelse på skillnad i kommuners medelpris blir skev av anledning X, Y och Z (orkar inte förklara, men tidigare länk är lite problematisk ifall man vill visa utveckling). Istället ska man använda [den här tabellen](https://www.scb.se/hitta-statistik/statistik-efter-amne/boende-byggande-och-bebyggelse/fastighetspriser-och-lagfarter/fastighetspriser-och-lagfarter/pong/tabell-och-diagram/kommunstatistik/medelpriser-for-smahus-per-kommun-med-prisforandringar-under-1-5-10-och-20-ar/) där prisutvecklingen har jämförts med fastigheters taxeringsvärde. Den prisutvecklingen är mer pålitlig!\n",
    "\n",
    "En artikel publicerades i nr 10 2019 och finns [att läsa på webben här!](https://www.dagenssamhalle.se/nyhet/mullsjos-huspriser-okar-mest-i-landet-26651)\n",
    "\n"
   ]
  },
  {
   "cell_type": "code",
   "execution_count": 2,
   "metadata": {},
   "outputs": [],
   "source": [
    "# Hämtar data direkt från url:n\n",
    "url = \"https://www.scb.se/hitta-statistik/statistik-efter-amne/boende-byggande-och-bebyggelse/\\\n",
    "fastighetspriser-och-lagfarter/fastighetspriser-och-lagfarter/pong/tabell-och-diagram/\\\n",
    "kommunstatistik/medelpriser-for-smahus-per-kommun-med-prisforandringar-under-1-5-10-och-20-ar/\""
   ]
  },
  {
   "cell_type": "code",
   "execution_count": 3,
   "metadata": {},
   "outputs": [],
   "source": [
    "df = pd.read_html(url)[0].dropna().iloc[:,[1,2,3,5]]"
   ]
  },
  {
   "cell_type": "code",
   "execution_count": 4,
   "metadata": {},
   "outputs": [],
   "source": [
    "df.columns = ['kommun','antal_köp','medelp_tkr','förändring_2012_2017']"
   ]
  },
  {
   "cell_type": "code",
   "execution_count": 5,
   "metadata": {},
   "outputs": [],
   "source": [
    "df.förändring_2012_2017 = df.förändring_2012_2017.str.replace('+','').str.replace('‑','-')"
   ]
  },
  {
   "cell_type": "code",
   "execution_count": 6,
   "metadata": {},
   "outputs": [],
   "source": [
    "df.förändring_2012_2017 = pd.to_numeric(df.förändring_2012_2017)"
   ]
  },
  {
   "cell_type": "code",
   "execution_count": 7,
   "metadata": {},
   "outputs": [],
   "source": [
    "if not os.path.isdir('res'):\n",
    "    os.makedirs('res')"
   ]
  },
  {
   "cell_type": "code",
   "execution_count": 8,
   "metadata": {},
   "outputs": [],
   "source": [
    "df.sort_values('förändring_2012_2017',ascending=False)\\\n",
    "    .rename(columns={\n",
    "    'kommun':'Kommun',\n",
    "    'antal_köp':'Antal husköp',\n",
    "    'medelp_tkr':'Medelpris i tkr',\n",
    "    'förändring_2012_2017':'Prisförändring i procent, år 2012-2017'\n",
    "})\\\n",
    "    .to_excel('res/prisutveckling_småhus.xlsx',index=False)"
   ]
  },
  {
   "cell_type": "code",
   "execution_count": null,
   "metadata": {},
   "outputs": [],
   "source": []
  }
 ],
 "metadata": {
  "kernelspec": {
   "display_name": "Python 3",
   "language": "python",
   "name": "python3"
  },
  "language_info": {
   "codemirror_mode": {
    "name": "ipython",
    "version": 3
   },
   "file_extension": ".py",
   "mimetype": "text/x-python",
   "name": "python",
   "nbconvert_exporter": "python",
   "pygments_lexer": "ipython3",
   "version": "3.7.2"
  }
 },
 "nbformat": 4,
 "nbformat_minor": 2
}
